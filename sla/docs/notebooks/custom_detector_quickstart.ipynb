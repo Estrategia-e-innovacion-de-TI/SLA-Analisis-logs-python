{
 "cells": [
  {
   "cell_type": "code",
   "execution_count": 2,
   "id": "aa59e16b",
   "metadata": {},
   "outputs": [],
   "source": [
    "import sys\n",
    "sys.path.append('../..')\n",
    "import sla\n",
    "import numpy as np\n",
    "import torch\n",
    "import matplotlib.pyplot as plt\n",
    "\n",
    "from sla.detectors.custom_detector import BaseCustomDetector"
   ]
  },
  {
   "cell_type": "markdown",
   "id": "71e1a4bf",
   "metadata": {},
   "source": [
    "### **Definimos nuestro Custom Detector**"
   ]
  },
  {
   "cell_type": "markdown",
   "id": "e08ff4c5",
   "metadata": {},
   "source": [
    "**Base Custom Detector**"
   ]
  },
  {
   "cell_type": "code",
   "execution_count": 3,
   "id": "0f24de1a",
   "metadata": {},
   "outputs": [],
   "source": [
    "class CustomDetector(BaseCustomDetector):\n",
    "    def __init__(self, threshold_multiplier=2.0):\n",
    "        self.mean_std = None\n",
    "        self.threshold_multiplier = threshold_multiplier\n",
    "        self.threshold = None\n",
    "\n",
    "    def fit(self, train_data, val_data=None, verbose=False):\n",
    "        stds = np.std(train_data, axis=1)\n",
    "        self.mean_std = np.mean(stds)\n",
    "        std_dev = np.std(stds)\n",
    "        self.threshold = self.mean_std + self.threshold_multiplier * std_dev\n",
    "\n",
    "        history = {\n",
    "            'train': [self.mean_std] * 10,\n",
    "            'val': [np.mean(np.std(val_data, axis=1))] * 10 if val_data is not None else []\n",
    "        }\n",
    "        return history\n",
    "\n",
    "    def anomaly_score(self, data):\n",
    "        return np.std(data, axis=1)\n",
    "\n",
    "    def predict(self, data):\n",
    "        scores = self.anomaly_score(data)\n",
    "        return scores > self.threshold"
   ]
  },
  {
   "cell_type": "markdown",
   "id": "75f05f61",
   "metadata": {},
   "source": [
    "**DerivativeMADDetector Custom** "
   ]
  },
  {
   "cell_type": "markdown",
   "id": "24d0e7bc",
   "metadata": {},
   "source": [
    "Este detector evalúa el cambio abrupto en las señales utilizando la derivada primera de la serie temporal (sensibilidad a cambios rápidos)."
   ]
  },
  {
   "cell_type": "code",
   "execution_count": 4,
   "id": "4f0a4e2d",
   "metadata": {},
   "outputs": [],
   "source": [
    "class DerivativeMADDetector(BaseCustomDetector):\n",
    "    def __init__(self, threshold_multiplier=2.0):\n",
    "        super().__init__()\n",
    "        self.threshold_multiplier = threshold_multiplier\n",
    "        self.threshold = None\n",
    "        self.mean_mad = None\n",
    "\n",
    "    def fit(self, X, y=None):\n",
    "        deriv = np.diff(X, axis=1)\n",
    "        mads = np.mean(np.abs(deriv), axis=1)\n",
    "        self.mean_mad = np.mean(mads)\n",
    "        std_mad = np.std(mads)\n",
    "        self.threshold = self.mean_mad + self.threshold_multiplier * std_mad\n",
    "        return self  \n",
    "\n",
    "    def predict(self, X):\n",
    "        scores = self.anomaly_score(X)\n",
    "        return (scores > self.threshold).astype(int)\n",
    "\n",
    "    def anomaly_score(self, X):\n",
    "        deriv = np.diff(X, axis=1)\n",
    "        return np.mean(np.abs(deriv), axis=1)"
   ]
  },
  {
   "cell_type": "markdown",
   "id": "193a9210",
   "metadata": {},
   "source": [
    "**PatternCorrelationDetector Custom**"
   ]
  },
  {
   "cell_type": "markdown",
   "id": "c026f5bf",
   "metadata": {},
   "source": [
    "Este detector mide la similitud de una serie con una forma esperada (como una onda senoidal), usando la correlación de Pearson."
   ]
  },
  {
   "cell_type": "code",
   "execution_count": 5,
   "id": "4d9c4055",
   "metadata": {},
   "outputs": [],
   "source": [
    "class PatternCorrelationDetector(BaseCustomDetector):\n",
    "    def __init__(self, threshold=0.8):\n",
    "        super().__init__()\n",
    "        self.pattern = None\n",
    "        self.threshold = threshold\n",
    "\n",
    "    def fit(self, X, y=None):\n",
    "        self.pattern = np.mean(X, axis=0)\n",
    "        return self\n",
    "\n",
    "    def predict(self, X):\n",
    "        scores = self.anomaly_score(X)\n",
    "        return (scores > (1 - self.threshold)).astype(int)\n",
    "\n",
    "    def anomaly_score(self, X):\n",
    "        scores = []\n",
    "        for x in X:\n",
    "            corr = np.corrcoef(self.pattern, x)[0, 1]\n",
    "            scores.append(1 - corr)  # menor correlación => mayor score\n",
    "        return np.array(scores)"
   ]
  },
  {
   "cell_type": "markdown",
   "id": "5742fd08",
   "metadata": {},
   "source": [
    "**Simulación para Custom detectors**"
   ]
  },
  {
   "cell_type": "code",
   "execution_count": 6,
   "id": "1d1ba3f6",
   "metadata": {},
   "outputs": [
    {
     "data": {
      "image/png": "[encoded data removed]",
      "text/plain": [
       "<Figure size 1200x600 with 1 Axes>"
      ]
     },
     "metadata": {},
     "output_type": "display_data"
    }
   ],
   "source": [
    "# Simulación de datos\n",
    "window_size = 60\n",
    "batch_size = 100\n",
    "n_features = 1\n",
    "\n",
    "normal_data = []\n",
    "for i in range(batch_size):\n",
    "    t = np.linspace(0, 4*np.pi, window_size)\n",
    "    normal_series = np.sin(t) + 0.1 * np.random.randn(window_size)\n",
    "    normal_data.append(normal_series)\n",
    "normal_data = np.array(normal_data)\n",
    "\n",
    "anomalous_data = []\n",
    "for i in range(batch_size // 4):\n",
    "    t = np.linspace(0, 4*np.pi, window_size)\n",
    "    anomaly_series = 1.5 * np.sin(1.5*t) + 0.3 * np.random.randn(window_size)\n",
    "    anomalous_data.append(anomaly_series)\n",
    "anomalous_data = np.array(anomalous_data)\n",
    "\n",
    "# from my_custom_module import CustomDetector, DerivativeMADDetector, PatternCorrelationDetector\n",
    "# detector = CustomDetector(threshold_multiplier=2.0)\n",
    "detector = DerivativeMADDetector(threshold_multiplier=2.0)\n",
    "# detector = PatternCorrelationDetector(threshold=0.85)\n",
    "\n",
    "# Separar datos en entrenamiento y validación\n",
    "train_size = int(0.8 * len(normal_data))\n",
    "train_data = normal_data[:train_size]\n",
    "val_data = normal_data[train_size:]\n",
    "\n",
    "# Entrenar el detector\n",
    "detector.fit(train_data, val_data)  \n",
    "\n",
    "# Calcular puntuaciones de anomalía\n",
    "normal_scores = detector.anomaly_score(normal_data)\n",
    "anomalous_scores = detector.anomaly_score(anomalous_data)\n",
    "\n",
    "# Visualizar resultados\n",
    "plt.figure(figsize=(12, 6))\n",
    "plt.hist(normal_scores, bins=30, alpha=0.5, label='Normal Data')\n",
    "plt.hist(anomalous_scores, bins=30, alpha=0.5, label='Anomalous Data')\n",
    "plt.axvline(detector.threshold, color='r', linestyle='--', label='Threshold')\n",
    "plt.xlabel('Anomaly Score')\n",
    "plt.ylabel('Count')\n",
    "plt.title('Distribution of Anomaly Scores')\n",
    "plt.legend()\n",
    "plt.grid(True)\n",
    "plt.show()"
   ]
  }
 ],
 "metadata": {
  "kernelspec": {
   "display_name": "ail-aiops",
   "language": "python",
   "name": "python3"
  },
  "language_info": {
   "codemirror_mode": {
    "name": "ipython",
    "version": 3
   },
   "file_extension": ".py",
   "mimetype": "text/x-python",
   "name": "python",
   "nbconvert_exporter": "python",
   "pygments_lexer": "ipython3",
   "version": "3.12.6"
  }
 },
 "nbformat": 4,
 "nbformat_minor": 5
}
