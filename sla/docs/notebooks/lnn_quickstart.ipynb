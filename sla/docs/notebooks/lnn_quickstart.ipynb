{
 "cells": [
  {
   "cell_type": "markdown",
   "metadata": {},
   "source": [
    "# Import Required Libraries\n",
    "Import NumPy, PyTorch, Matplotlib, and the LNNDetector class from the provided module."
   ]
  },
  {
   "cell_type": "code",
   "execution_count": null,
   "metadata": {},
   "outputs": [],
   "source": [
    "import numpy as np\n",
    "import torch\n",
    "import matplotlib.pyplot as plt\n",
    "import sys\n",
    "\n",
    "sys.path.append('../..')\n",
    "from sla.detectors import LNNDetector\n",
    "\n",
    "window_size = 60\n",
    "batch_size = 100\n",
    "n_features = 1\n",
    "\n",
    "normal_data = []\n",
    "for i in range(batch_size):\n",
    "    t = np.linspace(0, 4*np.pi, window_size)\n",
    "    normal_series = np.sin(t) + 0.1 * np.random.randn(window_size)\n",
    "    normal_data.append(normal_series)\n",
    "normal_data = np.array(normal_data)\n",
    "\n",
    "anomalous_data = []\n",
    "for i in range(batch_size//4):\n",
    "    t = np.linspace(0, 4*np.pi, window_size)\n",
    "    anomaly_series = 1.5*np.sin(1.5*t) + 0.3 * np.random.randn(window_size)\n",
    "    anomalous_data.append(anomaly_series)\n",
    "anomalous_data = np.array(anomalous_data)\n",
    "\n",
    "normal_tensor = torch.tensor(normal_data, dtype=torch.float32)\n",
    "anomalous_tensor = torch.tensor(anomalous_data, dtype=torch.float32)\n",
    "\n",
    "detector = LNNDetector(\n",
    "    n_features=n_features,\n",
    "    seq_len=window_size,\n",
    "    latent_dim=8,\n",
    "    learning_rate=0.001,\n",
    "    epochs=10,\n",
    "    threshold_multiplier=2.0\n",
    ")\n",
    "\n",
    "train_size = int(0.8 * len(normal_data))\n",
    "train_data = normal_data[:train_size]\n",
    "val_data = normal_data[train_size:]\n",
    "\n",
    "history = detector.fit(train_data, val_data, verbose=True)\n",
    "\n",
    "plt.figure(figsize=(10, 5))\n",
    "plt.plot(history['train'], label='Training Loss')\n",
    "plt.plot(history['val'], label='Validation Loss')\n",
    "plt.title('Training and Validation Loss')\n",
    "plt.xlabel('Epoch')\n",
    "plt.ylabel('Loss')\n",
    "plt.legend()\n",
    "plt.grid(True)\n",
    "plt.show()\n",
    "\n",
    "normal_scores = detector.anomaly_score(normal_data)\n",
    "anomalous_scores = detector.anomaly_score(anomalous_data)\n",
    "\n",
    "plt.figure(figsize=(12, 6))\n",
    "plt.hist(normal_scores, bins=30, alpha=0.5, label='Normal Data')\n",
    "plt.hist(anomalous_scores, bins=30, alpha=0.5, label='Anomalous Data')\n",
    "plt.axvline(detector.threshold, color='r', linestyle='--', label='Threshold')\n",
    "plt.xlabel('Anomaly Score')\n",
    "plt.ylabel('Count')\n",
    "plt.title('Distribution of Anomaly Scores')\n",
    "plt.legend()\n",
    "plt.grid(True)\n",
    "plt.show()"
   ]
  },
  {
   "cell_type": "code",
   "execution_count": null,
   "metadata": {},
   "outputs": [],
   "source": []
  }
 ],
 "metadata": {
  "kernelspec": {
   "display_name": ".venv",
   "language": "python",
   "name": "python3"
  },
  "language_info": {
   "codemirror_mode": {
    "name": "ipython",
    "version": 3
   },
   "file_extension": ".py",
   "mimetype": "text/x-python",
   "name": "python",
   "nbconvert_exporter": "python",
   "pygments_lexer": "ipython3",
   "version": "3.10.12"
  }
 },
 "nbformat": 4,
 "nbformat_minor": 2
}
